{
 "cells": [
  {
   "cell_type": "code",
   "execution_count": 209,
   "metadata": {},
   "outputs": [],
   "source": [
    "import math\n",
    "import yaml"
   ]
  },
  {
   "cell_type": "code",
   "execution_count": 210,
   "metadata": {},
   "outputs": [],
   "source": [
    "# Magic Numbers!\n",
    "\n",
    "wide_diamond_strip_width_in = 3.125\n",
    "skinny_diamond_strip_width_in = 2.25\n"
   ]
  },
  {
   "cell_type": "code",
   "execution_count": 211,
   "metadata": {},
   "outputs": [
    {
     "name": "stdout",
     "output_type": "stream",
     "text": [
      "\n",
      " Full Circle Unit\n",
      "Matcha Green skinny_diamond 0\n",
      "Matcha Green wide_diamond 45\n",
      "\n",
      " Oval Unit\n",
      "Matcha Green skinny_diamond 12\n",
      "Matcha Green wide_diamond 21\n",
      "\n",
      " Right Unit\n",
      "Matcha Green skinny_diamond 6\n",
      "Matcha Green wide_diamond 22\n",
      "\n",
      " Left Unit\n",
      "Matcha Green skinny_diamond 6\n",
      "Matcha Green wide_diamond 22\n",
      "\n",
      " Sakura Unit\n",
      "Blue Green skinny_diamond 50\n",
      "Matcha Green wide_diamond 50\n",
      "\n",
      " Center Sakura Unit\n",
      "Matcha Green skinny_diamond 15\n",
      "Blue Green wide_diamond 15\n",
      "\n",
      " Center Filling\n",
      "Lime Green skinny_diamond 16\n",
      "Lime Green wide_diamond 30\n",
      "\n",
      "\n",
      "\n",
      "\n",
      "matcha_green_skinny_diamond_single 39\n",
      "matcha_green_wide_diamond_single 14\n",
      "matcha_green_wide_diamond_double 26\n",
      "matcha_green_wide_diamond_triple 120\n",
      "blue_green_skinny_diamond_single 50\n",
      "blue_green_wide_diamond_single 0\n",
      "blue_green_wide_diamond_double 6\n",
      "blue_green_wide_diamond_triple 9\n",
      "lime_green_skinny_diamond_single 16\n",
      "lime_green_wide_diamond_single 4\n",
      "lime_green_wide_diamond_double 2\n",
      "lime_green_wide_diamond_triple 24\n"
     ]
    }
   ],
   "source": [
    "with open(\"units.yaml\", \"r\") as f:\n",
    "    units = yaml.safe_load(f)\n",
    "\n",
    "# print(units)\n",
    "matcha_green_wide_diamond = 0\n",
    "blue_green_wide_diamond = 0\n",
    "lime_green_wide_diamond = 0\n",
    "matcha_green_skinny_diamond = 0\n",
    "blue_green_skinny_diamond = 0\n",
    "lime_green_skinny_diamond = 0\n",
    "\n",
    "matcha_green_skinny_diamond_single = 0\n",
    "matcha_green_wide_diamond_single = 0\n",
    "matcha_green_wide_diamond_double = 0\n",
    "matcha_green_wide_diamond_triple = 0\n",
    "\n",
    "blue_green_skinny_diamond_single = 0\n",
    "blue_green_wide_diamond_single = 0\n",
    "blue_green_wide_diamond_double = 0\n",
    "blue_green_wide_diamond_triple = 0\n",
    "\n",
    "lime_green_skinny_diamond_single = 0\n",
    "lime_green_wide_diamond_single = 0\n",
    "lime_green_wide_diamond_double = 0\n",
    "lime_green_wide_diamond_triple = 0\n",
    "\n",
    "\n",
    "for unit in units:\n",
    "    print(\"\\n\", unit[\"name\"])\n",
    "\n",
    "    coordinated_colours_wide_diamonds = unit[\"coordinated_colours_wide_diamonds\"]\n",
    "    coordinated_colours_skinny_diamonds = unit[\"coordinated_colours_skinny_diamonds\"]\n",
    "    \n",
    "    for sub in unit[\"sub_units\"]:\n",
    "        keys = sub.keys()\n",
    "        sub_name = list(keys)[0]\n",
    "\n",
    "        qty = unit[\"qty_needed\"]\n",
    "        individual_piece = 0\n",
    "        for item in sub:\n",
    "            value_var = sub[item]\n",
    "\n",
    "            for value_index, value in enumerate(value_var,start=1):\n",
    "                # print(\"      Value:\", value, value_index)\n",
    "                individual_piece += value * qty * value_index\n",
    "\n",
    "                if sub_name == \"wide_diamond\":\n",
    "                    if value_index == 1:\n",
    "                        if coordinated_colours_wide_diamonds == \"Matcha Green\":\n",
    "                            matcha_green_wide_diamond  += value * qty * value_index\n",
    "                            matcha_green_wide_diamond_single  += value * qty * value_index\n",
    "                        elif coordinated_colours_wide_diamonds == \"Lime Green\":\n",
    "                            lime_green_wide_diamond  += value * qty * value_index\n",
    "                            lime_green_wide_diamond_single  += value * qty * value_index\n",
    "                        elif coordinated_colours_wide_diamonds == \"Blue Green\":\n",
    "                            blue_green_wide_diamond  += value * qty * value_index\n",
    "                            blue_green_wide_diamond_single  += value * qty * value_index\n",
    "                    elif value_index == 2:\n",
    "                        if coordinated_colours_wide_diamonds == \"Matcha Green\":\n",
    "                            matcha_green_wide_diamond  += value * qty * value_index\n",
    "                            matcha_green_wide_diamond_double  += value * qty * value_index\n",
    "                        elif coordinated_colours_wide_diamonds == \"Lime Green\":\n",
    "                            lime_green_wide_diamond  += value * qty * value_index\n",
    "                            lime_green_wide_diamond_double  += value * qty * value_index\n",
    "                        elif coordinated_colours_wide_diamonds == \"Blue Green\":\n",
    "                            blue_green_wide_diamond  += value * qty * value_index\n",
    "                            blue_green_wide_diamond_double  += value * qty * value_index\n",
    "                    elif value_index == 3:\n",
    "                        if coordinated_colours_wide_diamonds == \"Matcha Green\":\n",
    "                            matcha_green_wide_diamond  += value * qty * value_index\n",
    "                            matcha_green_wide_diamond_triple  += value * qty * value_index\n",
    "                        elif coordinated_colours_wide_diamonds == \"Lime Green\":\n",
    "                            lime_green_wide_diamond  += value * qty * value_index\n",
    "                            lime_green_wide_diamond_triple  += value * qty * value_index\n",
    "                        elif coordinated_colours_wide_diamonds == \"Blue Green\":\n",
    "                            blue_green_wide_diamond  += value * qty * value_index\n",
    "                            blue_green_wide_diamond_triple  += value * qty * value_index\n",
    "                else:\n",
    "                    if coordinated_colours_skinny_diamonds == \"Matcha Green\":\n",
    "                        matcha_green_skinny_diamond  += value * qty * value_index\n",
    "                        matcha_green_skinny_diamond_single += value * qty * value_index\n",
    "                    elif coordinated_colours_skinny_diamonds == \"Lime Green\":\n",
    "                        lime_green_skinny_diamond  += value * qty * value_index\n",
    "                        lime_green_skinny_diamond_single += value * qty * value_index\n",
    "                    elif coordinated_colours_skinny_diamonds == \"Blue Green\":\n",
    "                        blue_green_skinny_diamond  += value * qty * value_index\n",
    "                        blue_green_skinny_diamond_single += value * qty * value_index\n",
    "        \n",
    "        if sub_name == \"wide_diamond\":\n",
    "            print( coordinated_colours_wide_diamonds, sub_name, individual_piece)\n",
    "        else:\n",
    "            print( coordinated_colours_skinny_diamonds, sub_name, individual_piece)\n",
    "        # if sub_name == \"wide_diamond\":\n",
    "        #     wide_diamond_single  += individual_piece\n",
    "        # elif sub_name == \"skinny_diamond\":\n",
    "        #     skinny_diamond_single += individual_piece\n",
    "# List of strings to be printed\n",
    "values = [\n",
    "    matcha_green_skinny_diamond_single,\n",
    "    matcha_green_wide_diamond_single,\n",
    "    matcha_green_wide_diamond_double,\n",
    "    matcha_green_wide_diamond_triple,\n",
    "    blue_green_skinny_diamond_single,\n",
    "    blue_green_wide_diamond_single,\n",
    "    blue_green_wide_diamond_double,\n",
    "    blue_green_wide_diamond_triple,\n",
    "    lime_green_skinny_diamond_single,\n",
    "    lime_green_wide_diamond_single,\n",
    "    lime_green_wide_diamond_double,\n",
    "    lime_green_wide_diamond_triple\n",
    "]\n",
    "value_strings = [\n",
    "    \"matcha_green_skinny_diamond_single\",\n",
    "    \"matcha_green_wide_diamond_single\",\n",
    "    \"matcha_green_wide_diamond_double\",\n",
    "    \"matcha_green_wide_diamond_triple\",\n",
    "    \"blue_green_skinny_diamond_single\",\n",
    "    \"blue_green_wide_diamond_single\",\n",
    "    \"blue_green_wide_diamond_double\",\n",
    "    \"blue_green_wide_diamond_triple\",\n",
    "    \"lime_green_skinny_diamond_single\",\n",
    "    \"lime_green_wide_diamond_single\",\n",
    "    \"lime_green_wide_diamond_double\",\n",
    "    \"lime_green_wide_diamond_triple\"\n",
    "]\n",
    "\n",
    "print(\"\\n\\n\\n\")\n",
    "\n",
    "# Loop through the list and print each string\n",
    "for index, value in enumerate(values):\n",
    "    print(value_strings[index], value)\n"
   ]
  },
  {
   "cell_type": "code",
   "execution_count": 212,
   "metadata": {},
   "outputs": [
    {
     "name": "stdout",
     "output_type": "stream",
     "text": [
      "Matcha Green Wide Diamond: 160\n",
      "matcha_green_skinny_diamond: 39\n",
      "\n",
      "Blue Green Wide Diamond: 15\n",
      "Blue Green Skinny Diamond: 50\n",
      "\n",
      "Lime Green Wide Diamond: 30\n",
      "Lime Green Skinny Diamond: 16\n"
     ]
    }
   ],
   "source": [
    "\n",
    "print(\"Matcha Green Wide Diamond:\", matcha_green_wide_diamond)\n",
    "print(\"matcha_green_skinny_diamond:\", matcha_green_skinny_diamond)\n",
    "print(\"\")\n",
    "print(\"Blue Green Wide Diamond:\", blue_green_wide_diamond)\n",
    "print(\"Blue Green Skinny Diamond:\", blue_green_skinny_diamond)\n",
    "print(\"\")\n",
    "print(\"Lime Green Wide Diamond:\", lime_green_wide_diamond)\n",
    "print(\"Lime Green Skinny Diamond:\", lime_green_skinny_diamond)"
   ]
  },
  {
   "cell_type": "code",
   "execution_count": 213,
   "metadata": {},
   "outputs": [
    {
     "name": "stdout",
     "output_type": "stream",
     "text": [
      "wide_diamond_yield: 13\n"
     ]
    }
   ],
   "source": [
    "name = \"wide_diamond\"\n",
    "remaining_tri_in = .75\n",
    "diamond_side = 2.5\n",
    "total_length_of_fabric = 44.5\n",
    "seam_allowance = 3/8\n",
    "skinny_angle = 72\n",
    "wide_angle = 180-72\n",
    "skew_long = (seam_allowance / math.tan(math.radians(skinny_angle/2)))\n",
    "skew_short = (seam_allowance / math.tan(math.radians(wide_angle/2)))\n",
    "\n",
    "wide_diamond_yield = math.floor((total_length_of_fabric - remaining_tri_in) / (diamond_side + (skew_long + skew_short)))\n",
    "\n",
    "print(\"wide_diamond_yield:\", wide_diamond_yield)"
   ]
  },
  {
   "cell_type": "code",
   "execution_count": 214,
   "metadata": {},
   "outputs": [
    {
     "name": "stdout",
     "output_type": "stream",
     "text": [
      "skinny_diamond_yield: 11\n"
     ]
    }
   ],
   "source": [
    "name = \"skinny_diamond\"\n",
    "remaining_tri_in = 2.125\n",
    "diamond_side = 2.5\n",
    "total_length_of_fabric = 44.5\n",
    "seam_allowance = 5/16\n",
    "skinny_angle = 36\n",
    "wide_angle = 180-36\n",
    "skew_long = (seam_allowance / math.tan(math.radians(skinny_angle/2)))\n",
    "skew_short = (seam_allowance / math.tan(math.radians(wide_angle/2)))\n",
    "\n",
    "skinny_diamond_yield = math.floor((total_length_of_fabric - remaining_tri_in) / (diamond_side + (skew_long + skew_short)))\n",
    "\n",
    "print(\"skinny_diamond_yield:\", skinny_diamond_yield)"
   ]
  },
  {
   "cell_type": "code",
   "execution_count": 215,
   "metadata": {},
   "outputs": [
    {
     "name": "stdout",
     "output_type": "stream",
     "text": [
      "matcha_green_wide_diamond_strips: 13\n",
      "fabric_requirement_for_wide_diamonds 40.625\n",
      "matcha_green_skinny_diamond_strips: 4\n",
      "fabric_requirement_for_skinny_diamonds 9.0\n",
      "total_fabric_required_for_matcha_green: 50\n"
     ]
    }
   ],
   "source": [
    "matcha_green_wide_diamond_strips = math.ceil(matcha_green_wide_diamond / wide_diamond_yield)\n",
    "print(\"matcha_green_wide_diamond_strips:\", matcha_green_wide_diamond_strips)\n",
    "\n",
    "fabric_requirement_for_wide_diamonds = wide_diamond_strip_width_in * matcha_green_wide_diamond_strips\n",
    "print(\"fabric_requirement_for_wide_diamonds\", fabric_requirement_for_wide_diamonds)\n",
    "\n",
    "matcha_green_skinny_diamond_strips = math.ceil(matcha_green_skinny_diamond / skinny_diamond_yield)\n",
    "print(\"matcha_green_skinny_diamond_strips:\", matcha_green_skinny_diamond_strips)\n",
    "\n",
    "fabric_requirement_for_skinny_diamonds = skinny_diamond_strip_width_in * matcha_green_skinny_diamond_strips\n",
    "print(\"fabric_requirement_for_skinny_diamonds\", fabric_requirement_for_skinny_diamonds)\n",
    "\n",
    "total_fabric_required_for_matcha_green = math.ceil(fabric_requirement_for_wide_diamonds + fabric_requirement_for_skinny_diamonds)\n",
    "print(\"total_fabric_required_for_matcha_green:\", total_fabric_required_for_matcha_green)"
   ]
  },
  {
   "cell_type": "code",
   "execution_count": 216,
   "metadata": {},
   "outputs": [
    {
     "name": "stdout",
     "output_type": "stream",
     "text": [
      "lime_green_wide_diamond_strips: 3\n",
      "fabric_requirement_for_wide_diamonds 9.375\n",
      "lime_green_skinny_diamond_strips: 2\n",
      "fabric_requirement_for_skinny_diamonds 4.5\n",
      "total_fabric_required_for_lime_green: 14\n"
     ]
    }
   ],
   "source": [
    "lime_green_wide_diamond_strips = math.ceil(lime_green_wide_diamond / wide_diamond_yield)\n",
    "print(\"lime_green_wide_diamond_strips:\", lime_green_wide_diamond_strips)\n",
    "\n",
    "fabric_requirement_for_wide_diamonds = wide_diamond_strip_width_in * lime_green_wide_diamond_strips\n",
    "print(\"fabric_requirement_for_wide_diamonds\", fabric_requirement_for_wide_diamonds)\n",
    "\n",
    "lime_green_skinny_diamond_strips = math.ceil(lime_green_skinny_diamond / skinny_diamond_yield)\n",
    "print(\"lime_green_skinny_diamond_strips:\", lime_green_skinny_diamond_strips)\n",
    "\n",
    "fabric_requirement_for_skinny_diamonds = skinny_diamond_strip_width_in * lime_green_skinny_diamond_strips\n",
    "print(\"fabric_requirement_for_skinny_diamonds\", fabric_requirement_for_skinny_diamonds)\n",
    "\n",
    "total_fabric_required_for_lime_green = math.ceil(fabric_requirement_for_wide_diamonds + fabric_requirement_for_skinny_diamonds)\n",
    "print(\"total_fabric_required_for_lime_green:\", total_fabric_required_for_lime_green)"
   ]
  },
  {
   "cell_type": "code",
   "execution_count": 217,
   "metadata": {},
   "outputs": [
    {
     "name": "stdout",
     "output_type": "stream",
     "text": [
      "blue_green_wide_diamond_strips: 2\n",
      "fabric_requirement_for_wide_diamonds 6.25\n",
      "blue_green_skinny_diamond_strips: 5\n",
      "fabric_requirement_for_skinny_diamonds 11.25\n",
      "total_fabric_required_for_blue_green: 18\n"
     ]
    }
   ],
   "source": [
    "blue_green_wide_diamond_strips = math.ceil(blue_green_wide_diamond / wide_diamond_yield)\n",
    "print(\"blue_green_wide_diamond_strips:\", blue_green_wide_diamond_strips)\n",
    "\n",
    "fabric_requirement_for_wide_diamonds = wide_diamond_strip_width_in * blue_green_wide_diamond_strips\n",
    "print(\"fabric_requirement_for_wide_diamonds\", fabric_requirement_for_wide_diamonds)\n",
    "\n",
    "blue_green_skinny_diamond_strips = math.ceil(blue_green_skinny_diamond / skinny_diamond_yield)\n",
    "print(\"blue_green_skinny_diamond_strips:\", blue_green_skinny_diamond_strips)\n",
    "\n",
    "fabric_requirement_for_skinny_diamonds = skinny_diamond_strip_width_in * blue_green_skinny_diamond_strips\n",
    "print(\"fabric_requirement_for_skinny_diamonds\", fabric_requirement_for_skinny_diamonds)\n",
    "\n",
    "total_fabric_required_for_blue_green = math.ceil(fabric_requirement_for_wide_diamonds + fabric_requirement_for_skinny_diamonds)\n",
    "print(\"total_fabric_required_for_blue_green:\", total_fabric_required_for_blue_green)"
   ]
  },
  {
   "cell_type": "code",
   "execution_count": 218,
   "metadata": {},
   "outputs": [
    {
     "name": "stdout",
     "output_type": "stream",
     "text": [
      "Matcha Green Skinny Diamonds: 4 strips\n",
      "Matcha Green Wide Diamonds: 13 strips\n"
     ]
    }
   ],
   "source": [
    "# total_fabric_required_for_matcha_green\n",
    "\n",
    "matcha_green_number_of_strips_to_be_subcut_skinny = matcha_green_skinny_diamond / skinny_diamond_yield\n",
    "matcha_green_number_of_strips_to_be_subcut_wide = matcha_green_wide_diamond / wide_diamond_yield\n",
    "\n",
    "# Round Up\n",
    "matcha_green_yardage_requirements_skinny = math.ceil(matcha_green_number_of_strips_to_be_subcut_skinny)\n",
    "matcha_green_yardage_requirements_wide = math.ceil(matcha_green_number_of_strips_to_be_subcut_wide)\n",
    "\n",
    "print(\"Matcha Green Skinny Diamonds:\", matcha_green_yardage_requirements_skinny, \"strips\")\n",
    "print(\"Matcha Green Wide Diamonds:\", matcha_green_yardage_requirements_wide, \"strips\")"
   ]
  },
  {
   "cell_type": "code",
   "execution_count": 219,
   "metadata": {},
   "outputs": [
    {
     "name": "stdout",
     "output_type": "stream",
     "text": [
      "Lime Green Skinny Diamonds: 2 strips\n",
      "Lime Green Wide Diamonds: 3 strips\n"
     ]
    }
   ],
   "source": [
    "# total_fabric_required_for_lime_green\n",
    "\n",
    "lime_green_number_of_strips_to_be_subcut_skinny = lime_green_skinny_diamond / skinny_diamond_yield\n",
    "lime_green_number_of_strips_to_be_subcut_wide = lime_green_wide_diamond / wide_diamond_yield\n",
    "\n",
    "# Round Up\n",
    "lime_green_yardage_requirements_skinny = math.ceil(lime_green_number_of_strips_to_be_subcut_skinny)\n",
    "lime_green_yardage_requirements_wide = math.ceil(lime_green_number_of_strips_to_be_subcut_wide)\n",
    "\n",
    "print(\"Lime Green Skinny Diamonds:\", lime_green_yardage_requirements_skinny, \"strips\")\n",
    "print(\"Lime Green Wide Diamonds:\", lime_green_yardage_requirements_wide, \"strips\")"
   ]
  },
  {
   "cell_type": "code",
   "execution_count": 220,
   "metadata": {},
   "outputs": [
    {
     "name": "stdout",
     "output_type": "stream",
     "text": [
      "Blue Green Skinny Diamonds: 5 strips\n",
      "Blue Green Wide Diamonds: 2 strips\n"
     ]
    }
   ],
   "source": [
    "# total_fabric_required_for_blue_green\n",
    "\n",
    "blue_green_number_of_strips_to_be_subcut_skinny = blue_green_skinny_diamond / skinny_diamond_yield\n",
    "blue_green_number_of_strips_to_be_subcut_wide = blue_green_wide_diamond / wide_diamond_yield\n",
    "\n",
    "# Round Up\n",
    "blue_green_yardage_requirements_skinny = math.ceil(blue_green_number_of_strips_to_be_subcut_skinny)\n",
    "blue_green_yardage_requirements_wide = math.ceil(blue_green_number_of_strips_to_be_subcut_wide)\n",
    "\n",
    "print(\"Blue Green Skinny Diamonds:\", blue_green_yardage_requirements_skinny, \"strips\")\n",
    "print(\"Blue Green Wide Diamonds:\", blue_green_yardage_requirements_wide, \"strips\")"
   ]
  },
  {
   "cell_type": "code",
   "execution_count": 221,
   "metadata": {},
   "outputs": [
    {
     "name": "stdout",
     "output_type": "stream",
     "text": [
      "\n",
      "\n",
      "\n",
      "\n",
      "matcha_green_skinny_diamond_single 39\n",
      "matcha_green_wide_diamond_single 14\n",
      "matcha_green_wide_diamond_double 26\n",
      "matcha_green_wide_diamond_triple 120\n",
      "blue_green_skinny_diamond_single 50\n",
      "blue_green_wide_diamond_single 0\n",
      "blue_green_wide_diamond_double 6\n",
      "blue_green_wide_diamond_triple 9\n",
      "lime_green_skinny_diamond_single 16\n",
      "lime_green_wide_diamond_single 4\n",
      "lime_green_wide_diamond_double 2\n",
      "lime_green_wide_diamond_triple 24\n",
      "Matcha Green Wide Diamond: 160\n",
      "matcha_green_skinny_diamond: 39\n",
      "\n",
      "Blue Green Wide Diamond: 15\n",
      "Blue Green Skinny Diamond: 50\n",
      "\n",
      "Lime Green Wide Diamond: 30\n",
      "Lime Green Skinny Diamond: 16\n",
      "wide_diamond_yield: 13\n",
      "skinny_diamond_yield: 11\n",
      "matcha_green_wide_diamond_strips: 13\n",
      "fabric_requirement_for_wide_diamonds 6.25\n",
      "matcha_green_skinny_diamond_strips: 4\n",
      "fabric_requirement_for_skinny_diamonds 11.25\n",
      "total_fabric_required_for_matcha_green: 50\n",
      "lime_green_wide_diamond_strips: 3\n",
      "fabric_requirement_for_wide_diamonds 6.25\n",
      "lime_green_skinny_diamond_strips: 2\n",
      "fabric_requirement_for_skinny_diamonds 11.25\n",
      "total_fabric_required_for_lime_green: 14\n",
      "blue_green_wide_diamond_strips: 2\n",
      "fabric_requirement_for_wide_diamonds 6.25\n",
      "blue_green_skinny_diamond_strips: 5\n",
      "fabric_requirement_for_skinny_diamonds 11.25\n",
      "total_fabric_required_for_blue_green: 18\n",
      "Matcha Green Skinny Diamonds: 4 strips\n",
      "Matcha Green Wide Diamonds: 13 strips\n",
      "Lime Green Skinny Diamonds: 2 strips\n",
      "Lime Green Wide Diamonds: 3 strips\n",
      "Blue Green Skinny Diamonds: 5 strips\n",
      "Blue Green Wide Diamonds: 2 strips\n"
     ]
    }
   ],
   "source": [
    "\n",
    "# List of strings to be printed\n",
    "values = [\n",
    "    matcha_green_skinny_diamond_single,\n",
    "    matcha_green_wide_diamond_single,\n",
    "    matcha_green_wide_diamond_double,\n",
    "    matcha_green_wide_diamond_triple,\n",
    "    blue_green_skinny_diamond_single,\n",
    "    blue_green_wide_diamond_single,\n",
    "    blue_green_wide_diamond_double,\n",
    "    blue_green_wide_diamond_triple,\n",
    "    lime_green_skinny_diamond_single,\n",
    "    lime_green_wide_diamond_single,\n",
    "    lime_green_wide_diamond_double,\n",
    "    lime_green_wide_diamond_triple\n",
    "]\n",
    "value_strings = [\n",
    "    \"matcha_green_skinny_diamond_single\",\n",
    "    \"matcha_green_wide_diamond_single\",\n",
    "    \"matcha_green_wide_diamond_double\",\n",
    "    \"matcha_green_wide_diamond_triple\",\n",
    "    \"blue_green_skinny_diamond_single\",\n",
    "    \"blue_green_wide_diamond_single\",\n",
    "    \"blue_green_wide_diamond_double\",\n",
    "    \"blue_green_wide_diamond_triple\",\n",
    "    \"lime_green_skinny_diamond_single\",\n",
    "    \"lime_green_wide_diamond_single\",\n",
    "    \"lime_green_wide_diamond_double\",\n",
    "    \"lime_green_wide_diamond_triple\"\n",
    "]\n",
    "\n",
    "print(\"\\n\\n\\n\")\n",
    "\n",
    "# Loop through the list and print each string\n",
    "for index, value in enumerate(values):\n",
    "    print(value_strings[index], value)\n",
    "\n",
    "\n",
    "\n",
    "print(\"Matcha Green Wide Diamond:\", matcha_green_wide_diamond)\n",
    "print(\"matcha_green_skinny_diamond:\", matcha_green_skinny_diamond)\n",
    "print(\"\")\n",
    "print(\"Blue Green Wide Diamond:\", blue_green_wide_diamond)\n",
    "print(\"Blue Green Skinny Diamond:\", blue_green_skinny_diamond)\n",
    "print(\"\")\n",
    "print(\"Lime Green Wide Diamond:\", lime_green_wide_diamond)\n",
    "print(\"Lime Green Skinny Diamond:\", lime_green_skinny_diamond)\n",
    "\n",
    "\n",
    "print(\"wide_diamond_yield:\", wide_diamond_yield)\n",
    "print(\"skinny_diamond_yield:\", skinny_diamond_yield)\n",
    "\n",
    "print(\"matcha_green_wide_diamond_strips:\", matcha_green_wide_diamond_strips)\n",
    "print(\"fabric_requirement_for_wide_diamonds\", fabric_requirement_for_wide_diamonds)\n",
    "print(\"matcha_green_skinny_diamond_strips:\", matcha_green_skinny_diamond_strips)\n",
    "print(\"fabric_requirement_for_skinny_diamonds\", fabric_requirement_for_skinny_diamonds)\n",
    "print(\"total_fabric_required_for_matcha_green:\", total_fabric_required_for_matcha_green)\n",
    "\n",
    "print(\"lime_green_wide_diamond_strips:\", lime_green_wide_diamond_strips)\n",
    "print(\"fabric_requirement_for_wide_diamonds\", fabric_requirement_for_wide_diamonds)\n",
    "print(\"lime_green_skinny_diamond_strips:\", lime_green_skinny_diamond_strips)\n",
    "print(\"fabric_requirement_for_skinny_diamonds\", fabric_requirement_for_skinny_diamonds)\n",
    "print(\"total_fabric_required_for_lime_green:\", total_fabric_required_for_lime_green)\n",
    "\n",
    "print(\"blue_green_wide_diamond_strips:\", blue_green_wide_diamond_strips)\n",
    "print(\"fabric_requirement_for_wide_diamonds\", fabric_requirement_for_wide_diamonds)\n",
    "print(\"blue_green_skinny_diamond_strips:\", blue_green_skinny_diamond_strips)\n",
    "print(\"fabric_requirement_for_skinny_diamonds\", fabric_requirement_for_skinny_diamonds)\n",
    "print(\"total_fabric_required_for_blue_green:\", total_fabric_required_for_blue_green)\n",
    "\n",
    "\n",
    "print(\"Matcha Green Skinny Diamonds:\", matcha_green_yardage_requirements_skinny, \"strips\")\n",
    "print(\"Matcha Green Wide Diamonds:\", matcha_green_yardage_requirements_wide, \"strips\")\n",
    "\n",
    "print(\"Lime Green Skinny Diamonds:\", lime_green_yardage_requirements_skinny, \"strips\")\n",
    "print(\"Lime Green Wide Diamonds:\", lime_green_yardage_requirements_wide, \"strips\")\n",
    "\n",
    "print(\"Blue Green Skinny Diamonds:\", blue_green_yardage_requirements_skinny, \"strips\")\n",
    "print(\"Blue Green Wide Diamonds:\", blue_green_yardage_requirements_wide, \"strips\")"
   ]
  }
 ],
 "metadata": {
  "kernelspec": {
   "display_name": "venv",
   "language": "python",
   "name": "python3"
  },
  "language_info": {
   "codemirror_mode": {
    "name": "ipython",
    "version": 3
   },
   "file_extension": ".py",
   "mimetype": "text/x-python",
   "name": "python",
   "nbconvert_exporter": "python",
   "pygments_lexer": "ipython3",
   "version": "3.12.3"
  }
 },
 "nbformat": 4,
 "nbformat_minor": 2
}
